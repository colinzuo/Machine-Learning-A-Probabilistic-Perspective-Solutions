{
 "cells": [
  {
   "cell_type": "markdown",
   "metadata": {},
   "source": [
    "# Precondition\n",
    "$$\\theta \\sim \\beta(\\alpha_1, \\alpha_2)$$\n",
    "$$\\mathbb{E}[\\theta] = m = \\alpha_1 / (\\alpha_1 + \\alpha_2)$$\n",
    "$$p(l < \\theta < u) = 0.95$$"
   ]
  },
  {
   "cell_type": "code",
   "execution_count": null,
   "metadata": {},
   "outputs": [],
   "source": [
    "def answer(m, l, u):\n",
    "    a2 = (1/m - 1)*a1"
   ]
  },
  {
   "cell_type": "code",
   "execution_count": 7,
   "metadata": {},
   "outputs": [],
   "source": [
    "from scipy.special import beta\n",
    "from scipy.integrate import quad\n",
    "\n",
    "def loss(a1, m, l, u):\n",
    "    b = beta(a1, (1/m - 1)*a1)\n",
    "    pdf = lambda x : 1/b*x**(a1-1)*(1-x)**((1/m-1)*a1-1)\n",
    "    return (quad(pdf, l, u)[0] - 0.95)**2"
   ]
  },
  {
   "cell_type": "code",
   "execution_count": 13,
   "metadata": {},
   "outputs": [
    {
     "data": {
      "text/plain": [
       "      fun: 3.6913317291686702e-09\n",
       " hess_inv: <1x1 LbfgsInvHessProduct with dtype=float64>\n",
       "      jac: array([ -3.19171893e-06])\n",
       "  message: b'CONVERGENCE: NORM_OF_PROJECTED_GRADIENT_<=_PGTOL'\n",
       "     nfev: 26\n",
       "      nit: 12\n",
       "   status: 0\n",
       "  success: True\n",
       "        x: array([ 4.50374794])"
      ]
     },
     "execution_count": 13,
     "metadata": {},
     "output_type": "execute_result"
    }
   ],
   "source": [
    "from scipy.optimize import minimize\n",
    "\n",
    "m = 0.15\n",
    "l = 0.05\n",
    "u = 0.3\n",
    "\n",
    "res = minimize(loss, 0.5, args=(m, l, u), bounds=[(0,None)])\n",
    "res"
   ]
  },
  {
   "cell_type": "code",
   "execution_count": 14,
   "metadata": {},
   "outputs": [
    {
     "name": "stdout",
     "output_type": "stream",
     "text": [
      "a1 = [ 4.50374794], a2 = [ 25.52123834]\n"
     ]
    }
   ],
   "source": [
    "a1 = res.x\n",
    "a2 = (1/m - 1)*a1\n",
    "print(\"a1 = {}, a2 = {}\".format(a1, a2))"
   ]
  },
  {
   "cell_type": "code",
   "execution_count": null,
   "metadata": {},
   "outputs": [],
   "source": []
  }
 ],
 "metadata": {
  "kernelspec": {
   "display_name": "Python 3",
   "language": "python",
   "name": "python3"
  },
  "language_info": {
   "codemirror_mode": {
    "name": "ipython",
    "version": 3
   },
   "file_extension": ".py",
   "mimetype": "text/x-python",
   "name": "python",
   "nbconvert_exporter": "python",
   "pygments_lexer": "ipython3",
   "version": "3.5.4"
  }
 },
 "nbformat": 4,
 "nbformat_minor": 2
}
